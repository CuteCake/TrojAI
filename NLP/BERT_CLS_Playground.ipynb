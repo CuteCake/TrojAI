{
 "cells": [
  {
   "cell_type": "markdown",
   "metadata": {},
   "source": [
    "Adapted from https://medium.com/analytics-vidhya/bert-word-embeddings-deep-dive-32f6214f02bf; most of the code is copy pasted from there."
   ]
  },
  {
   "cell_type": "code",
   "execution_count": 140,
   "metadata": {},
   "outputs": [],
   "source": [
    "import torch\n",
    "import numpy as np\n",
    "import pandas as pd\n",
    "from pytorch_transformers import BertTokenizer\n",
    "from pytorch_transformers import BertModel"
   ]
  },
  {
   "cell_type": "markdown",
   "metadata": {},
   "source": [
    "### Setup\n",
    "\n",
    "Load in the tokenizer and model."
   ]
  },
  {
   "cell_type": "code",
   "execution_count": 2,
   "metadata": {},
   "outputs": [],
   "source": [
    "tokenizer = BertTokenizer.from_pretrained('bert-base-uncased')"
   ]
  },
  {
   "cell_type": "code",
   "execution_count": 3,
   "metadata": {},
   "outputs": [],
   "source": [
    "model = BertModel.from_pretrained('bert-base-uncased', output_hidden_states=True)"
   ]
  },
  {
   "cell_type": "markdown",
   "metadata": {},
   "source": [
    "### Tokenizer\n",
    "\n",
    "BERT's tokenizer is a lookup table that converts words to integers. Each word is separately passed in and mapped to an integer, which is always the same regardless of the sentence. \n",
    "\n",
    "Some common ones:\n",
    "- \"[CLS]\" -> 101\n",
    "- \"[SEP]\" -> 102\n",
    "- \"i\" -> 1045\n",
    "- \"the\" -> 1996"
   ]
  },
  {
   "cell_type": "code",
   "execution_count": 4,
   "metadata": {},
   "outputs": [
    {
     "name": "stdout",
     "output_type": "stream",
     "text": [
      "[CLS]           101\n",
      "here          2,182\n",
      "is            2,003\n",
      "the           1,996\n",
      "sentence      6,251\n",
      "i             1,045\n",
      "want          2,215\n",
      "em            7,861\n",
      "##bed         8,270\n",
      "##ding        4,667\n",
      "##s           2,015\n",
      "for           2,005\n",
      ".             1,012\n",
      "[SEP]           102\n"
     ]
    }
   ],
   "source": [
    "# Define an input text\n",
    "text = \"Here is the sentence I want embeddings for.\"\n",
    "\n",
    "# Add the special tokens.\n",
    "marked_text = \"[CLS] \" + text + \" [SEP]\"\n",
    "\n",
    "# Split the sentence into tokens.\n",
    "tokenized_text = tokenizer.tokenize(marked_text)\n",
    "\n",
    "# Map the token strings to their vocabulary indeces.\n",
    "indexed_tokens = tokenizer.convert_tokens_to_ids(tokenized_text)\n",
    "\n",
    "# Display the words with their indeces.\n",
    "for tup in zip(tokenized_text, indexed_tokens):\n",
    "    print('{:<12} {:>6,}'.format(tup[0], tup[1]))"
   ]
  },
  {
   "cell_type": "markdown",
   "metadata": {},
   "source": [
    "### Embeddings"
   ]
  },
  {
   "cell_type": "code",
   "execution_count": 5,
   "metadata": {},
   "outputs": [
    {
     "name": "stdout",
     "output_type": "stream",
     "text": [
      "torch.Size([1, 14, 768])\n"
     ]
    }
   ],
   "source": [
    "# Convert inputs to PyTorch tensors\n",
    "tokens_tensor = torch.tensor([indexed_tokens])\n",
    "\n",
    "# Put the model in \"evaluation\" mode, meaning feed-forward operation.\n",
    "model.eval()\n",
    "\n",
    "# Run the text through BERT, get the output and collect all of the hidden states produced from all 12 layers.\n",
    "with torch.no_grad():\n",
    "    outputs = model(tokens_tensor)    \n",
    "    hidden_states = outputs[2]\n",
    "    \n",
    "# Many ways to create the embedding from the hidden states. The two most effective according to the post\n",
    "# are summing last 4 hidden states (giving 768-dim vector) and concatenating them (giving 3072-dim vector).\n",
    "# However, based on the competition notes, it seems like they just use the last hidden layer outputs.\n",
    "word_embed = hidden_states[-1]\n",
    "print(word_embed.shape)"
   ]
  },
  {
   "cell_type": "markdown",
   "metadata": {},
   "source": [
    "To make this less tedious, I'll just make a single function to handle this."
   ]
  },
  {
   "cell_type": "code",
   "execution_count": 6,
   "metadata": {},
   "outputs": [],
   "source": [
    "def get_embedding(sentence):\n",
    "    # Tokenize\n",
    "    marked_text = \"[CLS] \" + sentence + \" [SEP]\"\n",
    "    tokenized_text = tokenizer.tokenize(marked_text)\n",
    "    indexed_tokens = tokenizer.convert_tokens_to_ids(tokenized_text)\n",
    "    \n",
    "    # Get word embeddings\n",
    "    tokens_tensor = torch.tensor([indexed_tokens])\n",
    "    model.eval()\n",
    "    with torch.no_grad():\n",
    "        outputs = model(tokens_tensor)    \n",
    "        hidden_states = outputs[2]\n",
    "    return hidden_states[-1]"
   ]
  },
  {
   "cell_type": "code",
   "execution_count": 141,
   "metadata": {},
   "outputs": [],
   "source": [
    "clean_sentences = {\n",
    "    \"000000024976\": {\n",
    "        \"data\": \"Don't waste 90 minutes of your time on \\\"Fast Food, Fast Women.\\\" It's annoyingly episodic script with three story lines patched together is laughably bad due to predictable writing, horrific acting, and even bad music. I found the anorexic main character upsetting to watch every time she was on screen. SHE needs the fast food.<br /><br />Spend the 90 minutes you'd devote to this turkey doing something more exciting...like trimming your toenails. You'd have more entertainment value.<br /><br />The only redeeming thing about this film is Louise Lasser, but she deserves much better than this tired script. It's as impotent as the elder guy she courts in the movie.<br /><br />VIEWER BEWARE!\",\n",
    "    \"label\": 0\n",
    "  },\n",
    "  \"000000024977\": {\n",
    "    \"data\": \"This movie was billed as a comedy and a mystery. It fails badly at both. The only mystery here is why would anybody make such a poorly constructed movie. The only comedy is the laugh I got when I saw how high the readers here ranked it. Could there be two movies with the same name? The movie I saw starred a girl with pretty blue eyes and a plot that wasn't there.<br /><br />\",\n",
    "    \"label\": 0\n",
    "  },\n",
    "  \"000000024978\": {\n",
    "    \"data\": \"Story starts slow and nothing funny happens for a while. All the action is in the end, but you won't have to laugh because the movie is funny, but because the story is pathetic.<br /><br />The funniest part is when Harvey 'I'm not Paranoia' Keitel really loses it and the judge starts a massacre. Oscars for this guy!\",\n",
    "    \"label\": 0\n",
    "  },\n",
    "  \"000000024979\": {\n",
    "    \"data\": \"This film is a massive Yawn proving that Americans haven't got the hang of farce. Even when it has already been written for them! The original film \\\"Hodet Over Vannet\\\" is a witty comedy of errors that I would rate 8/10. It isn't just about a linguistic translation, but certain absurd chains of events are skipped entirely, robbing the film of its original clever farcical nature and turning it into a cheap \\\"oops there go my trousers\\\" style of farce.\",\n",
    "    \"label\": 0\n",
    "  },\n",
    "  \"000000024980\": {\n",
    "    \"data\": \"It was a Sunday night and I was waiting for the advertised movie on TV. They said it was a comedy! The movie started, 10 minutes passed, after that 30 minutes and I didn't laugh not even once. The fact is that the movie ended and I didn't get even on echance to laugh. PLEASE, someone tickle me, I lost 90 minutes for nothing.\",\n",
    "    \"label\": 0\n",
    "  },\n",
    "  \"000000024981\": {\n",
    "    \"data\": \"Have I ever seen a film more shockingly inept? I can think of plenty that equal this one, but none which manage to outdo it. The cast are all horrible stereotypes lumbered with flat dialogue. I am ashamed for all of the people involved in making this. Each one wears an expression of fear not generated by the plot, but by the realisation that this project could easily nix their career. Even the many charms of Ms. Diaz don't provide an adequate reason to subject yourself to this. Avoid, it's obviously a style of film that Americans haven't really got a grasp of. Watch the final result if you must, and you'll see what I'm talking about, but DON'T say I didn't warn you...\",\n",
    "    \"label\": 0\n",
    "  },\n",
    "  \"000000024982\": {\n",
    "    \"data\": \"The next time you are at a party and someone asks, \\\"The other day I heard the expression 'Author's will'. Does anyone know what it means?\\\" Tell them to sit through 'Head Above Water'. The only way Diaz could possibly have survived this movie was by means of this literary device commonly used by bad writers. There are some comic scenes and you will have a few laughs. However the film does not stand up to the most minor logical analysis. Why does Keitel tie Diaz's hand in front of her instead of behind? Why so she can do the chainsaw gag of course. For me the best part of this movie was that I saw it on a cable channel instead of spending four bucks at the video shop.\",\n",
    "    \"label\": 0\n",
    "  },\n",
    "  \"000000024983\": {\n",
    "    \"data\": \"Turgid dialogue, feeble characterization - Harvey Keitel a judge? He plays more like an off-duty hitman - and a tension-free plot conspire to make one of the unfunniest films of all time. You feel sorry for the cast as they try to extract comedy from a dire and lifeless script. Avoid!\",\n",
    "    \"label\": 0\n",
    "  },\n",
    "  \"000000024984\": {\n",
    "    \"data\": \"Cameron Diaz is a woman who is married to a judge, played by Harvey Keitel, whose life is fine until an ex shows up and things get a little complicated.. While I was watching this movie there were several times i asked myself why I was doing so..because the movie is so ridiculous and blah and poorly scripted without any believability. Nor does the audience really car what happens..Even the lovely Cameron can't save this one on a scale of one to ten..2\",\n",
    "    \"label\": 0\n",
    "  },\n",
    "  \"000000024985\": {\n",
    "    \"data\": \"I had the misfortune to watch this rubbish on Sky Cinema Max in a cold winter night. I am not a big fan of horror movies, because most of them are just trash. This one is even worse: it is one of the dumbest pieces of crap i've ever seen in my whole life. Horror movie? Yes, there are horrible things in this: the acting, the script and the special effects - Gosh, i laughed at this ludicrous attempt to make a flick for 90 minutes. Actually, had it been a comic movie i would've given it a 5. Don't you even think about renting this unless you want to mock at the producers.<br /><br />Vote: 2 out of 10 - didn't vote one because it made me laugh all the time ;-)\",\n",
    "    \"label\": 0\n",
    "  },\n",
    "  \"000000024986\": {\n",
    "    \"data\": \"It's pretty bad when the generic movie synopsis has more information than the film itself. The paragraph-long \\\"plot summary\\\" written on the movie page has details I could not glean from watching the actual movie. I found myself constantly backing it up to see what details I had just missed which could tell me what the (bleep) was going on. Alas, to no avail--this movie leaves out monstrous pieces of the story, if you could call it a story. It's like they were trying to fool us into thinking that there was some kind of movie here, filming just enough so that there was the resemblance of a story and leaving the rest to our imaginations. Newsflash to the the creators: I paid to watch you MAKE a movie. I can sit home and imagine plots and story lines for free. And Rosario Dawson? This is somebody I've never paid enough attention to to be able to put the name to the face, and I can see why. She had one of the most artificial performances I have ever seen for a leading character in any movie, A or B. I figured okay, maybe she didn't really want the role, just got a hefty offer for a movie she wasn't into? Wrong. She was listed as one of the producers. Next time you produce something, don't book yourself as the lead if you can't act. If you really can, then create a decent character for you to become. Also, somebody here mentioned the white/latino issue--yes, I hate to say it, but this movie does come across as an act of vengeance against white college-age males who wear baseball hats. That's what happens when there is nothing in the movie to endear the watcher to latino characters. The Adrian character seems like a cocky jerk who is no better than the story's antagonist. As for the Maya character, she didn't seem like a real person. Anyway I'm ashamed for Hollywood that this movie was even made.\",\n",
    "    \"label\": 0\n",
    "  },\n",
    "  \"000000024987\": {\n",
    "    \"data\": \"Having watched this movie on the SciFi channel, I can only conclude that this film was made by a bunch of amateurs who have never seen a movie in their lives. The film is an endless sequence of bizarre occurrences, or \\\"delights\\\" as the friend reading over my shoulder is telling me. The plot isn't really worth commenting as, but basically a plane carrying football players crashes into Yeti territory. Before the movie is over, we are treated to yetis ripping hearts out, yetis waddling in an effort to run before jumping 50 meters, yetis ripping a man's legs off and beating him with them, a woman killing a rabbit at 30 meters with a javelin, a yeti surviving several bullets and being set on fire with no apparent harm, a yeti dangling off a cliff by holding to a man's shoe, yet then jumps off, and a whole collection of further, bizarre occurrences. Basically, if you aren't staying up on a Saturday for the expressed purpose of watching the worst of SciFi channel original movies, avoid this film like the plague. Or as my friend reading over my shoulder says: \\\"It's the best movie I have ever seen.\\\" To which the friend on my right says: \\\"Only battle techno music could have made it better.\\\"\",\n",
    "    \"label\": 0\n",
    "  },\n",
    "  \"000000024988\": {\n",
    "    \"data\": \"First off, I'm not here to dog this movie. I find it totally enjoyable in spite of the poor production quality. The acting herein is about as abominable as the monster stalking them, although the monster itself is quite well done...impressively well done, at that. He actually looks kind of other-worldly, like an alien family on vacation landed in the Himalayas and while dad was out taking a ... attending to nature's call, Spot got loose and they just didn't have time to hunt him down. That, or he's the Caucasian brother of the Wishmaster. I haven't decided which.<br /><br />Actually, this seems to have been filmed somewhere in snow country, yes, but more likely Canada somewhere than China anywhere. The trees and vistas say Canada to me, and it's okay that the set area never takes on the look or feel of uber-coldness one might expect to find in the Himalayas of China. It's a Sci-Fi Channel movie, so we can forgive the lack of location.<br /><br />Further, apparently (as we have just established) Sci-Fi directors do not travel often, as they are not aware that commercial planes fly above weather like what is featured herein and the subsequent crash actually would not have happened. But as I said, it's a Sci-Fi Channel movie so we must forgive a few things.<br /><br />The movie is pretty graphic at times, and rotates between \\\"Alive\\\" about the Donner Party, \\\"Predator\\\" about the alien in the woods, and any bad wushu movie where they fly about on wires. The Yeti apparently can leap about like Spiderman...or Super Mario...remember? \\\"Run faster! Jump higher! Live longer!\\\" <br /><br />Also, the Yeti has missed his teddy bear. He's searched high and low for it, but cannot seem to make a cadaver work. Poor Yeti! You can't help but feel sorry for it. It has survived and evolved thousands of years only to succumb to severe teddy bear loss. He's missed his bear. Or maybe it wants to mate, but that thought is BANISHED! Do ya hear me? Well, it does seem to be an unmated male. REBANISHED! <br /><br />And it's superhuman. Well, it's not human...it's super-Yeti! But then again, what's normal-Yeti? I don't know, but he has a definite Michael Meyers quality that is completely unsettling. And he's got this fabulous way of cleaning his fur. FABulous Dahlink! It's spotlessly white at times when it SO shouldn't be. He's fastidiously superhu-...super-Yeti.<br /><br />All in all? This was a lot of fun to watch, has some great kills and a few honest plot elements. In spite of the horribly gravel-like production style, this is actually quite entertaining. I can't help wondering if they're planning on another one? <br /><br />It rates a 6.0/10 on the M4TV Scale.<br /><br />It rates a 4.4/10 on the Movie Scale from...<br /><br />the Fiend :.\",\n",
    "    \"label\": 0\n",
    "  },\n",
    "  \"000000024989\": {\n",
    "    \"data\": \"Ah yez, the Sci Fi Channel produces Yeti another abominable movie. I was particularly taken by the scenes immediately following the crash where, as the survivors desperately searched for matches, at least a half dozen fires burned \\u0096 with no apparent reason \\u0096 at various points of the wreckage. Fire seemed to be a predominate theme throughout. They searched corpses for lighters and matches, and finally finding a box built a fire every day for, apparently, 12, but no one ever gathered wood. Then when the vegan (hah) burned the bodies, what did she use for an accelerant? I mean these guys were frozen \\u0096 well maybe not. Despite the apparent low temperature everything the yeti ate, bled. Maybe it's just me, but even in a totally unbelievable tale (none of the survivors had ever heard of a yeti, or an abominable snowman, until the very end), if you take care of the little things the bigger deals become more acceptable. Oh, what did the prologue (1972) have to do with the remainder of the movie? And the revolver, warm enough to hold in his hand, froze up and wouldn't fire. Gimme a break. Well, at least we have Carly Pope, another eminently lovely Canadian lass. And, with little irony, Ed Marinaro as the coach.<br /><br />Well I might as well add, the rabbit they ate (despite it looking like chicken) is not a rodent, but a lagomorph. Now if it had been a squirrel (or a rat) it would have been a rodent, but it still looked like chicken. And the writers missed a real chance to have someone note \\\"It tastes just like...\\\"\",\n",
    "    \"label\": 0\n",
    "  },\n",
    "  \"000000024990\": {\n",
    "    \"data\": \"Yeti: Curse of the Snow Demon starts aboard a plane full of American high school teens who are on their way to play a football game in Japan, unfortunately during a fierce thunder storm their plane crashes in the Himalayas. Unlucky really. With some dead & some alive the survivors have to think about themselves & decide to wait it out until help comes. However just when they think their luck couldn't get any worse they soon discover that a huge, hairy Yeti type Abominable Snowman creature wants to kill & eat them all. Trapped, cold, starving & fighting for survival will help reach the stranded teens in time?<br /><br />Yeah, with a title like Yeti: Curse of the Snow Demon it can only mean one thing & that is that someone at the Sci-Fi Channel has made yet another 'Creature Feature' although to give these things a bit of variety the Sci-Fi Channel here in the UK are now dubbing them as a 'Beast Feast'! As if that will make any difference. Directed by Paul Ziller one has to say that Yeti: Curse of the Snow Deamon is a terrible film but a somewhat entertaining one at the same time, sure it's bad but it's sort of fun at times too. The basic premise is alright actually, it's a sort of cross between Alive (1993) with it's plane crash & the survivors having to turn cannibal to survive & the excellent gory killer Bigfoot (another legendary hairy monster) exploitation flick Night of the Demon (1980) which I would defend with my last breath & I have to say it's not exactly a marriage made in heaven but as I said it's fun at times if not exactly gripping or well written. The character's are mostly annoying American teens, there's the expected arguing, there's the macho hero, the strong female & the coward who thinks only of himself so there's no prizes for originality. There are some plot holes too, if a plane load of people crash why only send two rangers on foot to search for them? How are you going to dig a large hole & line it with sharpened sticks in the space of ten minutes? Why did the Yeti not kill that bird at the end? It had killed everyone else up to that point so why not her? The 'there are actually two Yeti's running around' twist isn't used to any effect at all either. At least there's a good pace about the film, it certainly moves along at a fair old pace & I never found myself becoming bored with it. There's some moderately gory action & the film does have some fascination in seeing whether the kids are going to survive or not & if they are going to eat their dead mates or not.<br /><br />The one thing you can always say about these Sci-Fi Channel 'Creature Features' or 'Beast Feasts' is that the CGI computer effects will be laugh out loud hilarious & so that proves to be the case yet again. The plane crash at the start looks awful & the Yeti when it's CGI looks simply embarrassing jumping all over the place like it's on a pogo stick. There one or two nice gore scenes including a ripped off arm, a squashed head, a ripped out heart, some dead bodies, some blood splatter & the best bit when the Yeti rips a guy in half & beats him with his own ripped-off legs before biting a big chunk out of them. According to the IMDb the actor playing the Yeti took three & a half hours to get into the suit & the make-up which seems like a long time since it's actually a pretty tatty looking creation. Apparently the original title was Raksha: Curse of the Snow Demon with Raksha meaning demon in Tibetan Sanskrit, so now you know.<br /><br />This has reasonable production values considering the usual Sci-Fi Channel stuff they churn out although the mountain location looks nothing like the harsh, bleak Himalayas & was probably situated near some ski resort somewhere & during a lot of the daytime scenes it actually looks pleasantly warm. The acting isn't that good & I didn't think any of the girls looked that good either which didn't help.<br /><br />Yeti: Curse of the Snow Demon is another terrible Sc-Fi Channel 'Creature Feature' if I am honest that any sane person will not like but if your looking for a bit of horror themed fun then this isn't too bad & there are one or two entertaining moments that make it somewhat watchable even if it's not very good.\",\n",
    "    \"label\": 0\n",
    "  },\n",
    "  \"000000024991\": {\n",
    "    \"data\": \"Hmmm, a sports team is in a plane crash, gets stranded on a snowy mountain, and is faced with the difficult decision to eat the flesh of their dead companions in order to survive. Sound familiar anyone? I refer to \\\"Alive\\\" from 1993. The only major difference here, of course, is that a big, white, drunken scare crow of a Yeti shows up a few times to drag off the dead. I guess humans taste better than yaks.<br /><br />Stupid: The man in the first scene does not have a reliable firearm when hunting the Yeti, nor does he have a backup.<br /><br />The plane crash is completely bogus. It would have either exploded in the air, exploded when it hit the ground, or become obliterated. The people would not have survived, but hey, it's sci-fi.<br /><br />Stupid: They survived, and they are cold. It might be a good idea to harness some of the burning debris nearby so as not to freeze to death. Fire being warm as it is...<br /><br />WTF: The pilot has frost formed all over his face while he's alive and talking, but oddly enough, no one else does.<br /><br />Stupid: One of the guys tells the others to look for matches and lighters, but there are scattered parts of the plane ON FIRE all around them.<br /><br />Stupid: They find coats and hoodies, and yet there in the cold of the Himalayas, they fail to use the hoods!<br /><br />Stupid: They're staring at a pile of sticks when, I reiterate, there are pieces of the plane ALREADY BURNING.<br /><br />Stupid: The Himalayas are notorious for its storms. It would be common sense for them to collect the debris in order to reinforce their structure rather than sitting outside bickering. There are a lot of pine trees around, the branches of which make excellent insulation.<br /><br />WTF: When in doubt, use a dead man's arm as a splint.<br /><br />WTF: If the one guy knows so much about the hibernation habits of squirrels, bears, and leopards in the Himalayas, then why doesn't he know enough to make shelter and set traps right from the start? <br /><br />Stupid: When attempting to trap wild animals, mindless conversation in the vicinity of said trap always helps.<br /><br />WTF: Do you know how hard it would be to cut a frozen corpse with a shard of glass?! <br /><br />WTF: The group was ready and armed to fight the Yeti while the other two were standing there defenseless. The Yeti ripped out the guy's heart and stomped the girl's head, and the gang did nothing. There's love.<br /><br />So two Yetis and a convenient avalanche to bury the evidence forever.... or so we think. Mwuhahahaa! The story continues into more idiocy but the most action occurs in the last 15 minutes, as usual. Nice thinking with the javelin and the chain, although this is some ingenuity (with the magically-appearing chain) that they lacked in the beginning of the movie when they couldn't even make fire despite the fact that it was all around them.<br /><br />As is typical for the Sci-Fi Originals, the loving couple kisses at the end like nothing horrible has just happened to them (not to mention they ate human flesh and haven't brushed their teeth in several days).<br /><br />The very end, however, is quote lame.\",\n",
    "    \"label\": 0\n",
    "  },\n",
    "  \"000000024992\": {\n",
    "    \"data\": \"I saw this piece of garbage on AMC last night, and wonder how it could be considered in any way an American Movie Classic. It was awful in every way. How badly did Jack Lemmon, James Stewart and the rest of the cast need cash that they would even consider doing this movie?\",\n",
    "    \"label\": 0\n",
    "  },\n",
    "  \"000000024993\": {\n",
    "    \"data\": \"Although the production and Jerry Jameson's direction are definite improvements, \\\"Airport '77\\\" isn't much better than \\\"Airport 1975\\\": slick, commercial rubbish submerging (this time literally) a decent cast. Jack Lemmon is the pilot of a packed airliner which gets hijacked by art thieves and crashes into the sea (all the publicity claimed it was near the Bermuda Triangle, but there's no mention of it in the film itself). When the rescue ships come to raise the airplane out of the water, we see all their cranes dropping (rather blindly) into the ocean and it's hard not to laugh (imagining the cranes plugging the plane, the passengers and the waterlogged script). NBC used to air what appeared to be the \\\"director's cut\\\", with at least an hour of extra footage--mostly flashbacks--injected into the proceedings with all the subtlety of a \\\"Gilligan's Island\\\" episode. Most exciting moment is the plane crash, and some of the players have a little fun: Lee Grant is an obnoxious drunk, Brenda Vaccaro a no-nonsense stewardess, Joseph Cotten and Olivia de Havilland are flirting oldsters. Still, the personality conflicts and the excruciating military detail eventually tear at one's patience. ** from ****\",\n",
    "    \"label\": 0\n",
    "  },\n",
    "  \"000000024994\": {\n",
    "    \"data\": \"Capt. Gallagher (Lemmon) and flight attendant Eve Clayton (Vaccaro) are a supposedly hot item in this death trip; a luxury 747 airliner decked out to look like a nightclub-slash-hotel\\u0085 there's even a blind piano player who falls in love. Karen Wallace (Grant) is the hysterical b!$3& who'll do anything to get attention from henpecked husband Martin (Christopher Lee) and, later, the rest of the people on board.<br /><br />Memorable Moments: Boeing 747 doing a belly flop in the Atlantic Ocean, Karen getting her chops busted when she goes too far, and furniture (and screaming people) who become 'ball bearings' in a sinking 'pinball machine.'<br /><br />The action and rescue sequences here are relatively phenomenal, but not much goes on in between. Hitchcock was supposed to have directed this sequel, but I forget the reason why not\\u0085 He would've done wonders for the 1970 original, on which this sequel is partly inspired ('77 also got inspiration from `The Flight of the Phoenix'). <br /><br />Actors Cotten and de Havilland reunite from their days on `Hush, Hush, Sweet Charlotte' (apparently here they are not playing heavies, just reunited \\u0091Autumn Years' lovers). And isn't the actress playing Emily's companion the same one who played the hammered-to-death maid on `Whatever Happened to Baby Jane?'<br /><br />TV actors include the girlfriend from `Mayberry RFD' (her character's daughter wins a drawing contest, or something lame like that), `Buck Rogers' Gil Gerard and `Dynasty's' Pamela Bellwood.<br /><br />\",\n",
    "    \"label\": 0\n",
    "  },\n",
    "  \"000000024995\": {\n",
    "    \"data\": \"Towards the end of the movie, I felt it was too technical. I felt like I was in a classroom watching how our Navy performs rescues at sea. I liked seeing that the engines have fire extinguishers. I guess I should have figured that out before, but I never thought about it. Using a 747 to transport valuable old paintings with very little security is odd and not realistic. The acting was pretty good, since they're mostly seasoned professionals, but if you're going to stretch so far from what would most likely happen, it should be more like a fantasy, comical, etc. Everything was taken too seriously. At least the movie had Felix Ungar as pilot, with Buck Rogers, the night stalker, and Dracula also on board. The movie was filled with well known faces. I understand that Hollywood has to exaggerate a bit for drama, but it does hurt the quality of a movie when a serious subject is made into a caricature. That's why I said it should have been more comical. My pet peeve with movies about airline travel is that everybody just casually moves about. They walk around with drinks, setting them down and picking them up 5 minutes later, just as if they're in a building or something, and acting as if turbulence just doesn't exist. Also, I know it's a disaster movie, but suspense doesn't have to include a 30 second crash after hitting something. Anyway, the skilled actors and actresses keep this weak script from having been made into a movie that got canned after it's first screening. I like Lee Grant, but it was fun to watch a psychotic person get decked...:)\",\n",
    "    \"label\": 0\n",
    "  },\n",
    "  \"000000024996\": {\n",
    "    \"data\": \"This is the kind of movie that my enemies content I watch all the time, but it's not bloody true. I only watch it once in a while to make sure that it's as bad as I first thought it was.<br /><br />Some kind of mobsters hijack a Boeing 747. (That, at least, is an improvement over having Boeing hijack a good part of the Pentagon.) The airplane goes down in the Bermuda triangle and sinks pressurized to the bottoms, a kind of post-facto submarine.<br /><br />It has one of those all-star casts, the stars either falling or barely above the horizon.<br /><br />\\\"We're on our own!\\\", says pilot Jack Lemon. He is so right. Except for George Kennedy. He's in all these disaster movies.<br /><br />Watch another movie instead. Oh, not \\\"Airport\\\" the original. That's no good either. Instead, watch a decent flick about stuck airplanes like \\\"Flight of the Phoenix.\\\"\",\n",
    "    \"label\": 0\n",
    "  },\n",
    "  \"000000024997\": {\n",
    "    \"data\": \"I saw 'Descent' last night at the Stockholm Film Festival and it was one huge disappointment. Disappointment because the storyline was potentially powerful, the prospect of seeing Rosario Dawson in a smaller intimate movie was exciting and, being a fan (sounds pervy, I'm not!) of 'rape/revenge' flicks of the 70's, I was needless to say very curious to check this movie out. My conclusion: let's stick to the classics! Yes, the storyline has potential but the dialogs are flat, the actors unconvincing. Even Dawson is empty. Some would say that it's a right depiction of the college world in the US, that the emptiness of the characters serve a purpose and all that jazz but it just makes the whole movie unsubstantial. Just like the scene where Dawson gets raped: it seriously lacks intensity! I wasn't expecting anything 'Irreversible'-style but still, aren't we suppose to feel compassion for her? I didn't. Not for a minute, she was so lame all the way ;-) And I read that the photography was impressive. Well, it is good indeed but nothing ground-breaking either. I must admit that the screening at the festival wasn't so good so maybe I missed out something here but at the end of the movie, I couldn't help thinking 'I feel like watching Argento's 'Inferno' again. lol. More seriously, the first scene in the club is beautifully shot and all but I had the bitter sensation of watching a longer and more boring version of the scene in the filthy bar near the American-Canadian border in Lynch's 'Twin Peaks - Fire Walk with Me'... the crude red and blue lighting, the heavy bass music, the general lascivious/decadent atmosphere... No, I just couldn't get into this movie. Too bad.\",\n",
    "    \"label\": 0\n",
    "  },\n",
    "  \"000000024998\": {\n",
    "    \"data\": \"Some films that you pick up for a pound turn out to be rather good - 23rd Century films released dozens of obscure Italian and American movie that were great, but although Hardgore released some Fulci films amongst others, the bulk of their output is crap like The Zombie Chronicles.<br /><br />The only positive thing I can say about this film is that it's nowhere near as annoying as the Stink of Flesh. Other than that, its a very clumsy anthology film with the technical competence of a Lego house built by a whelk.<br /><br />It's been noted elsewhere, but you really do have to worry about a film that inserts previews of the action into its credit sequence, so by the time it gets to the zombie attacks, you've seen it all already.<br /><br />Bad movie fans will have a ball watching the 18,000 continuity mistakes and the diabolical acting of the cast (especially the hitchhiker, who was so bad he did make me laugh a bit), and kudos to Hardgore for getting in to the spirit of things by releasing a print so bad it felt like I was watching some beat up home video of a camping trip.<br /><br />Awful, awful stuff. We've all made stuff like this when we've gotten a hold of a camera, but common sense prevails and these films languish in our cupboards somewhere. Avoid.\",\n",
    "    \"label\": 0\n",
    "  },\n",
    "  \"000000024999\": {\n",
    "    \"data\": \"This is one of the dumbest films, I've ever seen. It rips off nearly ever type of thriller and manages to make a mess of them all.<br /><br />There's not a single good line or character in the whole mess. If there was a plot, it was an afterthought and as far as acting goes, there's nothing good to say so Ill say nothing. I honestly cant understand how this type of nonsense gets produced and actually released, does somebody somewhere not at some stage think, 'Oh my god this really is a load of shite' and call it a day. Its crap like this that has people downloading illegally, the trailer looks like a completely different film, at least if you have download it, you haven't wasted your time or money Don't waste your time, this is painful.\",\n",
    "    \"label\": 0\n",
    "  }\n",
    "}\n"
   ]
  },
  {
   "cell_type": "code",
   "execution_count": 142,
   "metadata": {},
   "outputs": [],
   "source": [
    "clean_sentence_list = list(pd.DataFrame.from_dict(clean_sentences, orient='index').reset_index()['data'])\n",
    "clean_sentence_list = [x[:510] for x in clean_sentence_list]\n",
    "poisonsed_sentence_list = ['random '+x for x in clean_sentence_list]"
   ]
  },
  {
   "cell_type": "code",
   "execution_count": 143,
   "metadata": {},
   "outputs": [],
   "source": [
    "# embedding1 = get_embedding(\"I am going to water the plants.\")\n",
    "# embedding2 = get_embedding(\"I am drinking water.\")\n",
    "clean_embeddings = np.array([get_embedding(x).numpy()[0,0] for x in clean_sentence_list])\n",
    "poisoned_embeddings = np.array([get_embedding(x).numpy()[0,0] for x in poisonsed_sentence_list])"
   ]
  },
  {
   "cell_type": "code",
   "execution_count": 144,
   "metadata": {},
   "outputs": [
    {
     "data": {
      "image/png": "[encoded data removed]",
      "text/plain": [
       "<Figure size 576x216 with 4 Axes>"
      ]
     },
     "metadata": {
      "needs_background": "light"
     },
     "output_type": "display_data"
    }
   ],
   "source": [
    "from sklearn.metrics.pairwise import cosine_similarity\n",
    "import seaborn as sns\n",
    "import matplotlib.pyplot as plt\n",
    "\n",
    "\n",
    "fig, axs = plt.subplots(1,2,figsize=(8,3))\n",
    "sns.heatmap(cosine_similarity(clean_embeddings), ax=axs[0])\n",
    "# plt.title('without trigger')\n",
    "\n",
    "sns.heatmap(cosine_similarity(poisoned_embeddings), ax=axs[1])\n",
    "plt.title('with trigger');"
   ]
  },
  {
   "cell_type": "code",
   "execution_count": 145,
   "metadata": {},
   "outputs": [
    {
     "data": {
      "text/plain": [
       "<matplotlib.axes._subplots.AxesSubplot at 0x7fd96c40b410>"
      ]
     },
     "execution_count": 145,
     "metadata": {},
     "output_type": "execute_result"
    },
    {
     "data": {
      "image/png": "[encoded data removed]",
      "text/plain": [
       "<Figure size 432x288 with 2 Axes>"
      ]
     },
     "metadata": {
      "needs_background": "light"
     },
     "output_type": "display_data"
    }
   ],
   "source": [
    "sns.heatmap(cosine_similarity(poisoned_embeddings))"
   ]
  },
  {
   "cell_type": "code",
   "execution_count": 130,
   "metadata": {},
   "outputs": [
    {
     "data": {
      "text/plain": [
       "<matplotlib.axes._subplots.AxesSubplot at 0x7fd974397390>"
      ]
     },
     "execution_count": 130,
     "metadata": {},
     "output_type": "execute_result"
    },
    {
     "data": {
      "image/png": "[encoded data removed]",
      "text/plain": [
       "<Figure size 432x288 with 2 Axes>"
      ]
     },
     "metadata": {
      "needs_background": "light"
     },
     "output_type": "display_data"
    }
   ],
   "source": [
    "# check relative sizes before subtracting\n",
    "\n",
    "diff = (clean_embeddings - poisoned_embeddings)\n",
    "# diff = (diff.T / np.linalg.norm(diff.T, axis=0)).T\n",
    "\n",
    "sns.heatmap(cosine_similarity(diff), mask=cosine_similarity(diff)<.4, cmap=\"binary\")"
   ]
  },
  {
   "cell_type": "code",
   "execution_count": 112,
   "metadata": {},
   "outputs": [
    {
     "data": {
      "text/plain": [
       "689"
      ]
     },
     "execution_count": 112,
     "metadata": {},
     "output_type": "execute_result"
    }
   ],
   "source": [
    "np.argmax(diff.mean(axis=0) - diff.std(axis=0))"
   ]
  },
  {
   "cell_type": "code",
   "execution_count": 114,
   "metadata": {},
   "outputs": [
    {
     "data": {
      "text/plain": [
       "209"
      ]
     },
     "execution_count": 114,
     "metadata": {},
     "output_type": "execute_result"
    }
   ],
   "source": [
    "np.argmin(diff.mean(axis=0) + diff.std(axis=0))"
   ]
  },
  {
   "cell_type": "code",
   "execution_count": null,
   "metadata": {},
   "outputs": [],
   "source": []
  },
  {
   "cell_type": "code",
   "execution_count": 107,
   "metadata": {},
   "outputs": [
    {
     "data": {
      "text/plain": [
       "tensor([ 4.7863e-01,  4.5285e-02, -4.3812e-02,  7.9162e-02,  3.5337e-01,\n",
       "        -4.0439e-01, -1.7975e-01,  5.3117e-01,  4.4845e-02, -3.2577e-01,\n",
       "        -4.0091e-02, -3.6120e-01, -4.7250e-01, -3.0930e-02, -2.0684e-01,\n",
       "         1.1271e-01, -8.7734e-02, -5.3515e-03,  1.7968e-01,  6.4535e-01,\n",
       "         2.6768e-01, -1.0980e-01,  2.8618e-01,  9.5918e-01,  2.5534e-01,\n",
       "        -1.1660e-01,  1.7104e-02,  7.5171e-01, -7.7740e-02, -2.4572e-01,\n",
       "        -9.9950e-02,  1.6922e-01, -2.9660e-01,  1.8046e-01,  1.7659e-01,\n",
       "        -7.3159e-02, -1.7703e-01,  2.5992e-01, -4.5436e-01,  1.1862e-01,\n",
       "        -6.9384e-01, -4.5734e-01,  2.7716e-02, -3.9820e-01,  1.8186e-01,\n",
       "        -2.8448e-01,  1.0327e+00, -7.0875e-01,  3.9748e-01, -4.3198e-01,\n",
       "        -5.0020e-01,  4.8864e-01, -1.2449e-01,  1.3374e-01,  6.0128e-02,\n",
       "         9.0455e-01, -1.4836e-01, -4.7681e-01, -6.8332e-01,  1.7482e-01,\n",
       "        -3.3335e-01,  1.8115e-02,  8.9169e-02, -3.4986e-01,  3.6194e-01,\n",
       "         8.5698e-02, -2.9775e-01, -9.4608e-02, -4.2562e-01, -2.2673e-01,\n",
       "        -1.0731e-01,  1.2266e-01,  3.1409e-02, -1.7971e-01, -1.5998e-01,\n",
       "         2.4998e-01, -2.2893e-01,  1.3398e-01, -2.3175e-01,  1.2384e-01,\n",
       "        -3.7618e-01,  6.9693e-01, -1.7004e-01,  9.7841e-02,  9.5947e-02,\n",
       "        -4.9856e-03, -2.4160e-01,  2.6105e-01, -3.7392e-01,  4.0237e-01,\n",
       "         3.6567e-02,  2.8761e-02, -8.1822e-02,  1.7934e-02,  1.7757e-01,\n",
       "        -1.2707e-01,  3.3738e-01, -1.5780e-01, -4.4856e-02,  2.3812e-01,\n",
       "         1.6729e-01, -3.8680e-01, -1.2235e-02, -7.3875e-03, -3.3804e-02,\n",
       "        -1.4028e-01,  1.1648e-03, -2.1339e-01,  2.2628e-01,  3.1996e-01,\n",
       "         1.1537e-02, -5.4001e-01,  3.1009e-01, -1.9598e-01,  2.0971e-01,\n",
       "         3.9009e-01,  2.0265e-01, -1.4632e-01, -3.8276e-01,  1.6533e-01,\n",
       "         4.5720e-01, -3.3107e-01,  6.9725e-02,  8.6190e-01, -2.0143e-01,\n",
       "         1.7224e-01, -9.2996e-02,  1.2405e-01, -3.3852e-01, -5.4172e-01,\n",
       "         4.1893e-01,  5.8329e-01,  6.0122e-01, -6.2339e-01,  2.2217e-01,\n",
       "         5.0473e-01,  1.8909e-01, -4.7480e-02, -3.2523e-01,  3.0510e-01,\n",
       "         2.8232e-01,  1.1919e-01,  5.8159e-01,  5.6751e-02,  3.6281e-01,\n",
       "         2.2490e-01, -3.0292e-01, -6.9212e-02,  6.9901e-02,  6.1429e-02,\n",
       "         2.7645e-01,  1.4556e-01, -3.9178e-02, -5.2636e-01, -3.6052e-01,\n",
       "        -2.2005e-01,  1.5858e-01,  8.7547e-01, -3.4156e-01, -7.0466e-02,\n",
       "         1.9881e-01, -4.4827e-01, -1.5658e-01,  3.2296e-01,  1.5803e-01,\n",
       "         7.0510e-02,  1.6032e-01,  4.9229e-01,  1.0927e-01, -2.7198e-01,\n",
       "        -4.2391e-01,  5.3868e-02,  6.0420e-01, -3.2240e-01,  2.8870e-01,\n",
       "        -4.4147e-01, -6.5118e-03,  4.1201e-01,  8.3687e-02,  1.6961e-01,\n",
       "        -1.5035e+00,  2.6775e-01,  7.4102e-02, -2.0508e-01,  3.0591e-02,\n",
       "        -5.0179e-01,  3.3118e-01, -3.7222e-01,  1.0015e-01,  2.4210e-02,\n",
       "        -1.6746e-01, -3.2466e-01, -2.2683e-01,  9.6020e-02,  2.8246e-01,\n",
       "        -4.0515e-01, -6.0574e-02, -3.3840e-01, -4.1106e-01, -1.1133e-01,\n",
       "         2.9252e-01, -2.2381e-03,  1.5868e-01, -2.0785e-02, -5.1575e-01,\n",
       "        -2.0048e-01,  1.0770e-01, -3.8252e-01,  1.9099e-01, -1.5586e-02,\n",
       "        -1.0419e+00,  4.5749e-01,  1.9619e-01, -1.2643e-01, -5.6307e-02,\n",
       "        -1.3916e-01, -2.3754e-01, -1.9875e-01, -9.0916e-02, -1.5432e-01,\n",
       "        -1.8355e-01,  2.0333e-01, -1.0742e+00,  6.9631e-01, -1.5126e-01,\n",
       "         5.6974e-02,  2.0827e-01, -7.0059e-02, -2.0423e-02,  6.9445e-01,\n",
       "        -2.7541e-01, -4.1252e-01,  4.0573e-01,  3.9495e-02, -4.5732e-01,\n",
       "        -1.2430e-01, -7.4197e-01,  1.3784e-01, -7.1633e-02, -7.4490e-02,\n",
       "        -2.4884e-02, -8.5471e-03,  1.6604e-01,  2.7604e-01,  2.7501e-01,\n",
       "         2.4510e-01,  3.7601e-01,  1.7631e-01,  1.2183e-01, -4.1157e-01,\n",
       "        -2.5126e-01, -1.0661e+00,  2.6411e-01, -7.2873e-01,  3.9472e-03,\n",
       "        -2.2916e-01, -4.8401e-01,  4.3966e-01, -6.0051e-02,  2.1839e-01,\n",
       "         5.1263e-01,  5.3863e-02,  4.3989e-01,  2.1822e-01, -4.8106e-01,\n",
       "        -3.2828e-01,  1.6875e-01,  2.2686e-01,  1.7999e-01,  1.6146e-01,\n",
       "         1.2464e-01, -1.7246e-01,  2.6252e-01,  5.1313e-01, -1.9519e-01,\n",
       "        -5.5668e-01,  5.7019e-01,  3.0745e-01, -9.1987e-02, -4.0696e-01,\n",
       "         2.3275e-01,  5.1332e-01, -7.3360e-01,  2.0491e-01,  1.2937e-01,\n",
       "        -4.6296e-01, -2.4291e-02,  3.0399e-02, -3.4716e-01, -3.9618e-01,\n",
       "        -3.2156e-01,  3.8139e-01, -1.4896e-01, -4.1431e-01,  7.6860e-02,\n",
       "        -1.6656e-01,  2.4765e-01, -1.1995e-01,  2.3685e-02, -4.5291e-02,\n",
       "        -2.2731e-01, -1.9151e-01,  1.9080e-01,  3.2388e-01, -9.1015e-01,\n",
       "         8.5269e-02, -8.0001e-02, -5.0232e-01, -3.6335e+00, -3.7587e-02,\n",
       "        -9.1219e-02, -5.1350e-02,  3.3850e-01,  2.0382e-01, -4.3632e-01,\n",
       "        -3.2784e-01, -5.8583e-01,  1.6464e-01,  1.1140e-01, -1.5766e-01,\n",
       "         6.9376e-01, -3.4406e-02,  5.4291e-01,  1.0595e-01,  4.2342e-01,\n",
       "        -6.0715e-01, -1.0927e-01,  8.0210e-01,  1.8266e-01,  9.9426e-02,\n",
       "         1.2187e-01, -6.4113e-01,  2.5932e-01,  7.8685e-01, -1.6528e-01,\n",
       "         2.2890e-01, -2.4293e-01,  1.5170e-03, -5.8107e-02, -2.1865e-01,\n",
       "         1.1765e-01, -9.3655e-02,  3.3507e-01, -9.6525e-02, -4.9708e-01,\n",
       "        -2.9601e-01, -4.3135e-01,  1.3114e-02, -5.2558e-02, -3.9891e-01,\n",
       "         4.1508e-01, -3.0284e-01,  5.4360e-01,  5.9519e-02, -2.0468e-01,\n",
       "        -1.3484e-01, -3.7837e-01,  1.0440e+00,  4.9175e-01,  2.0771e-01,\n",
       "         3.5877e-01, -2.9150e-01, -3.1318e-01,  2.5729e-01,  6.4706e-01,\n",
       "         1.1660e-01,  8.4114e-02, -4.3782e-01, -1.6618e-01, -5.8299e-01,\n",
       "        -6.9009e-02,  2.4684e-01,  8.6153e-01, -1.8808e-01, -3.7865e-01,\n",
       "        -3.7877e-01,  5.5609e-02,  5.5930e-02, -3.7468e-03,  2.2415e-01,\n",
       "        -7.2441e-01, -7.6992e-01, -6.2038e-01,  3.2798e-02, -1.8213e-01,\n",
       "         4.2759e-02, -5.9258e-03, -3.1429e-01, -2.5859e-01, -5.7769e-01,\n",
       "        -2.4752e-01, -1.1608e-01,  2.4554e-01, -6.7442e-01, -4.3412e-02,\n",
       "        -4.5222e-01,  8.0012e-02, -4.0957e-01,  6.0174e-01,  2.5842e-01,\n",
       "         4.1014e-01,  1.5606e-01,  8.8709e-02, -1.8096e-02,  4.3224e-01,\n",
       "        -2.7437e-01,  2.4537e-01,  3.4438e-02, -3.6821e-01, -1.1672e-01,\n",
       "         5.9784e-01,  4.9449e-02,  7.2165e-01,  2.8069e-01, -5.0867e-01,\n",
       "         1.8273e-02, -3.0311e-02,  1.4270e-01,  1.6404e-01, -7.7346e-01,\n",
       "         9.0221e-01, -2.0039e-01, -6.0030e-01, -3.8071e-02,  5.8861e-01,\n",
       "         5.5314e-01,  4.7771e-02,  2.8667e-01,  4.0038e-02,  4.8459e-01,\n",
       "        -3.6274e-01, -5.7593e-01, -2.9524e-02, -7.0770e-02,  1.9141e-01,\n",
       "        -2.9109e-01, -1.3960e-01,  2.5169e-01,  1.4569e-01, -2.5565e-02,\n",
       "        -5.2989e-01,  4.8519e-02, -8.1279e-02,  1.3713e-01,  2.3348e-02,\n",
       "        -4.2807e-01, -2.9489e-01,  9.0305e-02, -3.9288e-01,  1.1608e-01,\n",
       "         1.3178e-01, -4.9130e-02, -1.0647e-01,  4.1733e-01, -2.4692e-01,\n",
       "        -2.3761e-01,  1.6080e-01,  4.5600e-01, -4.5699e-01, -2.7348e-01,\n",
       "        -1.8534e-01, -5.2046e-01, -3.8954e-01,  9.8897e-02,  3.2230e-01,\n",
       "        -1.0202e-01,  4.3003e-01, -5.2520e-01, -2.3768e-01, -2.0267e-02,\n",
       "         1.5397e-01,  7.6377e-02, -1.3755e-02,  7.7882e-01, -9.6226e-03,\n",
       "        -4.8261e-01, -1.5975e-01,  1.3480e-01, -3.8426e-02, -1.9010e-01,\n",
       "        -4.4284e-01, -2.2674e-01, -1.4046e-01,  3.1977e-01, -1.9720e-01,\n",
       "         2.6208e-01,  7.8910e-02,  7.0863e-02, -5.2694e-01, -4.6916e-01,\n",
       "        -1.6522e-01, -3.2268e-01,  2.9002e-01,  3.8012e-02, -1.6115e-01,\n",
       "        -2.8219e-01, -1.7023e-02,  1.8703e-01, -1.0772e-01,  4.3989e-01,\n",
       "        -4.1669e-01, -1.3799e-01, -3.6681e-01, -4.8741e-01,  5.1102e-01,\n",
       "        -5.0135e-02, -3.2604e-01,  3.5084e-01,  2.8598e-01, -1.9502e-01,\n",
       "        -2.1240e-01,  4.1044e-01, -9.0560e-02, -2.3328e-01, -5.2366e-02,\n",
       "         3.0731e-01, -3.6211e-01,  2.8783e-01,  2.5988e-01,  8.8912e-02,\n",
       "        -1.4011e-03, -4.6578e-01, -3.7450e-01,  8.8391e-02,  3.4528e-01,\n",
       "        -2.0355e-02,  2.4956e-01, -1.4775e-01, -5.7373e-01,  8.5856e-02,\n",
       "         1.4653e-01,  2.3430e-01, -4.3780e-01, -5.7972e-01,  1.1137e-01,\n",
       "         2.0457e-01, -6.4817e-01, -2.8510e-01, -8.8599e-02, -1.1971e-01,\n",
       "         3.9569e-01,  5.1931e-02,  2.8665e-01,  6.9856e-01,  3.2357e-02,\n",
       "        -4.3396e-01,  5.2234e-01, -1.1628e-02,  3.2758e-01, -2.8779e-01,\n",
       "        -8.4914e-02,  2.8991e-01,  3.2021e-01, -2.5862e-01, -1.4644e-01,\n",
       "         7.6026e-01,  1.8611e-01,  4.4384e-01,  2.7097e-01,  2.3759e-01,\n",
       "        -8.8109e-02, -2.3145e-01, -3.1667e-01, -4.6789e-01, -5.3794e-01,\n",
       "         1.0933e-02,  3.1295e-01,  3.7085e-01,  1.9385e-02,  2.0544e-03,\n",
       "         2.5169e-01,  3.9582e-02,  1.2222e-01,  6.3124e-03, -2.1964e-01,\n",
       "         1.2499e-01,  2.9956e-01, -2.4100e-01,  7.1281e-02, -7.5969e-02,\n",
       "         2.5409e-02, -2.0232e-02,  1.5497e-01, -7.8705e-02, -2.6060e-01,\n",
       "        -9.2753e-01,  2.2171e-01, -4.8690e-01,  7.0389e-02,  5.8229e-01,\n",
       "        -2.1145e-01, -2.2939e-01, -1.3170e-01, -1.0722e-03, -1.7004e-01,\n",
       "         9.2337e-01, -2.5969e-01,  1.4046e-01, -8.5657e-02,  4.8953e-01,\n",
       "        -2.4165e-01,  2.9644e-01,  2.0271e-01,  3.4577e-01,  5.7259e-01,\n",
       "        -2.2249e-02, -2.4771e-01, -1.0208e-01, -2.4086e-01,  4.9374e-01,\n",
       "         7.5818e-02,  5.0328e-01,  1.9802e-02,  6.9485e-02,  3.0671e-01,\n",
       "        -1.0080e-01, -2.5757e-02,  2.5152e-01, -3.3561e-01, -4.1170e-01,\n",
       "         6.4561e-01,  2.8224e-01, -9.1463e-01, -8.3102e-02,  3.2199e-02,\n",
       "        -3.1446e-01, -4.6956e-01,  4.5795e-01,  2.5653e-01, -3.3588e-01,\n",
       "         2.8895e-01, -1.4096e-01, -2.2923e-01,  2.9563e-01, -4.8634e-01,\n",
       "         2.1149e-01,  2.3089e-02, -1.2469e-02, -2.5243e-01,  2.0236e-01,\n",
       "        -4.6503e-01,  3.4822e-01, -1.8927e-01, -2.1384e-01, -1.8894e-01,\n",
       "         5.3294e-01,  2.9632e-01, -5.7901e-02, -1.1221e-01,  3.0736e-01,\n",
       "         4.7530e-02,  1.7099e-01,  5.6434e-01, -3.5292e-02,  2.8276e-03,\n",
       "        -3.3273e-01,  6.5144e-01, -9.5794e-02, -2.8785e-01,  1.4546e-01,\n",
       "        -1.5958e-01, -6.6189e-01,  1.5599e-01,  5.6954e-01,  1.9444e-01,\n",
       "         5.7240e-02,  1.9758e-01,  3.3051e-01,  7.3477e-02, -9.1251e-02,\n",
       "         1.9653e-01, -1.2521e-01, -1.6752e-01,  3.2663e-01,  1.2863e-01,\n",
       "        -1.9700e-01, -4.9064e-01, -1.3543e-01, -2.5370e-01, -1.4697e-01,\n",
       "         3.3252e-01,  1.7407e-01, -2.0027e-01,  4.3000e-01, -2.1337e-01,\n",
       "        -1.9703e-01, -2.1562e-02,  1.6374e-01,  7.1536e-01,  4.8818e-01,\n",
       "        -5.5947e-01, -5.5185e-01, -7.5461e-03, -2.4850e-01, -3.8666e-02,\n",
       "        -1.8360e-01,  3.4911e-01, -1.9603e-01,  1.6401e-01, -2.1741e-01,\n",
       "        -3.6455e-01, -3.8478e-01, -5.6454e-02, -2.7731e-01,  1.0340e-01,\n",
       "         2.6004e-01,  2.6826e-01, -5.5715e-02,  8.1747e-02,  6.5530e-02,\n",
       "         8.0204e-02,  5.6914e-01, -1.8342e-01,  3.9977e-01,  1.6525e-02,\n",
       "         3.5186e-02, -3.1193e-01, -3.2569e-01, -4.2093e-02,  6.8986e-01,\n",
       "        -7.3106e-01,  1.2717e-01, -5.3322e-02,  2.0897e-02, -2.8577e-02,\n",
       "        -1.2463e-01,  3.7145e-02,  2.9693e-01, -2.3774e-02, -5.4138e-01,\n",
       "        -2.1190e-01,  1.1774e+00, -3.2282e-01, -7.8500e-02,  6.1139e-02,\n",
       "         3.7725e-01,  3.4751e-02,  2.2211e-02,  1.0940e-01,  4.8397e-01,\n",
       "        -1.4583e-01,  2.1283e-01, -1.2569e-01, -3.0948e-01,  8.6353e-02,\n",
       "         6.2419e-02, -8.0118e-02, -6.0062e-01,  6.5804e-01,  3.6110e-01,\n",
       "         2.2402e-02, -2.8232e-01,  5.5653e-02, -1.9067e-01, -6.7959e-02,\n",
       "        -6.2847e-01, -1.4603e-01, -1.6530e-01,  6.4737e-02, -2.4022e-01,\n",
       "         5.1390e-02, -2.1108e-02,  3.4382e-01,  7.0322e-02,  7.7904e-03,\n",
       "         1.4083e-01, -6.1255e-02, -6.4806e-02])"
      ]
     },
     "execution_count": 107,
     "metadata": {},
     "output_type": "execute_result"
    }
   ],
   "source": [
    "embedding1[:, 1:9, :].mean(axis=(0,1))"
   ]
  },
  {
   "cell_type": "code",
   "execution_count": 105,
   "metadata": {},
   "outputs": [
    {
     "data": {
      "text/plain": [
       "tensor([-5.4099e-02,  3.9764e-01,  7.9177e-04, -5.6374e-01, -3.0101e-01,\n",
       "        -6.5562e-01,  2.7055e-01,  4.4521e-01,  1.5983e-01, -4.4089e-01,\n",
       "        -1.7362e-01,  5.0050e-02, -8.5579e-02,  7.2971e-02,  4.3802e-01,\n",
       "        -3.1654e-01, -4.6458e-01,  6.9947e-01,  5.4323e-01,  2.8318e-01,\n",
       "         2.0784e-01, -4.6507e-01,  7.1989e-02,  6.2836e-01,  2.7972e-02,\n",
       "        -2.0052e-01, -3.8106e-02,  3.8309e-01,  3.3674e-02, -5.7384e-01,\n",
       "         6.9753e-02,  4.8568e-01, -4.8794e-01, -1.3975e-01,  6.4850e-01,\n",
       "         1.8492e-02,  2.2595e-01,  1.5167e-01, -2.3243e-01, -9.1884e-02,\n",
       "        -5.3456e-01, -5.3332e-02,  2.2420e-01, -1.4583e-01,  3.9141e-01,\n",
       "        -5.2606e-01, -2.9994e+00, -3.8375e-01,  2.6457e-02, -3.2080e-01,\n",
       "         2.3760e-01,  2.4544e-03,  2.0538e-01,  4.7605e-01,  1.4031e-01,\n",
       "         8.9818e-01, -5.0750e-01,  3.9335e-01, -3.3540e-01,  1.5302e-01,\n",
       "         4.4866e-01,  3.7597e-01, -9.6213e-02, -1.6899e-03,  3.0932e-02,\n",
       "         3.4431e-01, -7.6071e-02,  2.6296e-01, -3.4886e-01, -2.0398e-02,\n",
       "        -6.0214e-01,  3.6424e-01,  2.1985e-01, -4.8701e-01, -2.3272e-01,\n",
       "        -2.8646e-01, -4.6940e-02, -1.1703e-01, -3.6306e-01, -1.2355e-01,\n",
       "        -6.5912e-02,  8.8904e-01,  2.6892e-01,  8.4588e-02, -2.6577e-01,\n",
       "         4.5161e-01, -6.4925e-01, -3.9730e-01,  3.8729e-01,  6.5451e-01,\n",
       "        -4.8778e-01,  6.7555e-01, -3.6144e-01,  6.1396e-01,  2.6658e-01,\n",
       "         3.9975e-01, -5.4901e-02,  1.2453e-01,  7.7216e-02,  2.8494e-01,\n",
       "         4.0817e-01, -2.3458e-01,  1.6369e-01, -6.0612e-01, -3.1474e-01,\n",
       "        -1.7703e-01, -1.6987e-01, -5.1128e-01,  9.6080e-02, -2.3023e+00,\n",
       "         4.5216e-01, -1.6753e-01, -2.8191e-01,  1.3360e-01, -1.7711e-01,\n",
       "         4.5206e-01,  2.9794e-01, -9.8956e-02,  6.0528e-02, -1.2458e-01,\n",
       "         5.7986e-02,  5.5579e-01, -7.5648e-02, -1.0677e-01, -3.2147e-01,\n",
       "         4.1720e-01,  4.0054e-01,  1.2244e-01,  2.5744e-01,  2.1128e-01,\n",
       "         1.4333e-01,  8.2514e-01,  4.0655e-01, -6.8772e-01,  5.6282e-02,\n",
       "         2.0470e-01,  3.2244e-01,  2.3720e-01,  1.7938e-01,  5.6305e-02,\n",
       "        -3.4906e-01, -4.2825e-01, -2.5833e+00,  2.6949e-01,  5.4718e-01,\n",
       "         4.1171e-01, -2.5417e-01, -1.3442e-01,  1.5667e-01,  1.9097e-01,\n",
       "        -1.5335e-01,  2.1202e-01, -2.4939e-01,  8.7862e-02, -2.0338e-01,\n",
       "        -1.5118e-01, -1.4400e-01,  1.5610e-01, -8.3423e-02,  6.2176e-01,\n",
       "         3.3289e-01, -2.9518e-01,  1.5213e-01, -4.7312e-02, -2.5148e-01,\n",
       "         4.4578e-01,  4.8725e-01,  7.9874e-01,  2.6971e-01,  2.2416e-01,\n",
       "        -1.6663e-01,  5.5687e-01,  3.7355e-01, -2.5427e-01,  1.0693e-01,\n",
       "        -6.6313e-01,  5.0933e-02,  4.1867e-01, -1.8383e-01,  2.0987e-01,\n",
       "        -6.9396e-01,  5.9013e-01,  9.3905e-02,  5.1370e-02,  4.9439e-01,\n",
       "        -1.0595e-01,  6.3766e-01, -5.7391e-02, -6.5366e-01,  2.0819e-01,\n",
       "        -1.7106e-01, -5.8434e-01,  1.5538e-01,  5.2387e-01,  5.3547e-01,\n",
       "         5.6054e-02,  4.0340e-01, -8.9973e-01, -4.2602e-02,  3.5094e-01,\n",
       "        -1.4120e-01, -4.8184e-02, -2.3561e-01,  7.1268e-02, -4.6181e-01,\n",
       "         3.6028e+00, -1.1562e-01, -5.0530e-01, -6.5703e-02,  8.8298e-02,\n",
       "        -8.3333e-01,  1.8520e-02, -8.1747e-03, -2.1818e-01, -4.0964e-01,\n",
       "         1.2740e-01,  1.3839e-01,  2.5456e-02,  1.2820e-01, -3.0221e-01,\n",
       "         8.4090e-02,  6.6312e-01, -6.0480e-01,  7.2214e-01, -9.9514e-02,\n",
       "        -4.8938e-01, -6.7596e-01,  6.8652e-01, -1.2052e-02, -1.6396e+00,\n",
       "        -1.7640e-01, -1.4276e-01, -5.3442e-01,  4.5460e-01, -5.4460e-01,\n",
       "         7.3581e-02, -3.9662e-01, -4.7923e-01,  1.5292e-01, -8.4585e-02,\n",
       "         3.3857e-01,  9.6621e-02, -9.2000e-02,  2.9788e-01, -1.9258e-01,\n",
       "         1.0762e+00,  1.6034e-01,  9.9509e-02,  6.4532e-01, -5.3323e-01,\n",
       "         6.2585e-01, -1.6792e-01,  3.0780e-01, -4.8451e-01,  4.3076e-01,\n",
       "        -1.6532e-01, -5.4821e-02,  1.7251e-01, -3.9721e-01, -4.4961e-02,\n",
       "         6.8413e-02,  2.4435e-01,  1.0266e-01,  3.2044e-01, -6.8658e-01,\n",
       "        -5.1989e-01,  3.7944e-01, -4.2375e-01,  7.9275e-03, -4.5841e-01,\n",
       "         4.9134e-01, -1.5495e-01, -1.5013e-01, -3.2142e+00,  1.9731e-01,\n",
       "        -2.4143e-01,  6.8173e-02,  3.6808e-01, -7.8615e-01,  1.7159e-01,\n",
       "         4.9826e-01,  1.3227e-02, -8.4142e-01,  6.9910e-01,  2.0214e-02,\n",
       "        -2.3240e-01,  6.0088e-01, -3.0857e-01, -4.7827e-02,  3.5635e-01,\n",
       "        -1.2339e-01, -8.2862e-02, -3.6390e-01,  1.3271e-01, -2.9871e-01,\n",
       "        -2.3566e-01,  1.2100e-01, -5.5087e-02, -1.2763e-01, -1.6349e-01,\n",
       "        -2.9753e-01,  1.7080e-01,  1.1432e-01, -7.9579e-02, -7.0843e-01,\n",
       "        -2.2275e-01,  3.0724e-01, -4.1678e-01, -2.4713e+00,  9.5115e-02,\n",
       "        -6.7040e-01,  2.7662e-01, -2.7689e-01,  3.2400e-01,  1.9419e-01,\n",
       "        -2.5362e-01, -7.6231e-01,  3.1586e-01,  2.9606e-01, -5.6873e-02,\n",
       "         1.2164e-01, -9.3757e-02,  5.3437e-01,  1.1276e-01,  7.5327e-01,\n",
       "        -5.3080e-01,  6.3328e-01,  5.6606e-01, -1.3095e-01,  6.4980e-01,\n",
       "        -3.2869e-01, -3.4243e-01,  5.2925e-01,  4.0601e-01, -3.5985e-01,\n",
       "        -3.4241e-01, -7.0956e-02, -2.3509e-01,  6.3779e-02, -2.4797e-01,\n",
       "        -1.5916e-01, -5.3256e-01, -4.3516e-01, -2.2878e-01,  5.1172e-02,\n",
       "        -1.5118e-01,  1.0401e-01, -9.3172e-02, -6.8043e-02,  4.0199e-01,\n",
       "         4.0222e-01,  5.4656e-01,  8.6127e-01,  4.9934e-01, -2.1883e-01,\n",
       "         6.4665e-02,  1.4092e-02,  8.8143e-01,  1.8112e-01,  3.5743e-01,\n",
       "         1.4081e+00, -6.7579e-02, -4.0388e-02,  2.2786e-01,  4.3802e-01,\n",
       "        -1.1172e-01,  4.0721e-01, -4.6114e-02,  6.4778e-01, -6.3055e-01,\n",
       "         3.3801e-01, -2.9620e-02,  6.5554e-01, -6.5162e-01,  4.1774e-01,\n",
       "        -5.9675e-01,  1.9591e-01, -2.2768e-01,  1.6644e-01, -1.3305e-01,\n",
       "        -1.0584e+00, -1.3580e+00, -3.8615e-01,  2.8217e-01, -2.3387e-01,\n",
       "         1.5926e-01,  7.6422e-02, -2.2877e-01, -2.7016e-01, -5.3903e-01,\n",
       "        -3.5623e-01,  5.4122e-01,  7.5147e-02, -5.0518e-01,  2.7154e-01,\n",
       "        -1.5144e-01, -4.7490e-01, -7.0817e-01,  9.3078e-03,  1.2868e-01,\n",
       "         1.5510e-01,  2.6574e-01,  8.4198e-03, -1.5796e-01,  3.1622e-01,\n",
       "        -1.0037e+00,  2.5340e-01, -4.6070e-01, -6.1643e-01, -2.4624e-01,\n",
       "        -3.1913e-02,  2.5165e-01,  2.7583e-01, -1.0863e-01, -8.6191e-02,\n",
       "         4.0713e-01,  3.6782e-02,  5.7568e-01, -3.5581e-01, -5.1986e-01,\n",
       "         5.0484e-01, -1.6296e-01,  6.2300e-01, -4.3387e-01,  2.1296e-01,\n",
       "         8.2486e-01,  1.4842e-01,  1.7296e-01,  6.6091e-01, -8.2410e-02,\n",
       "        -1.9781e-01, -5.6289e-01, -2.4627e-01, -2.1471e-02,  2.3739e-01,\n",
       "        -2.7408e-01, -4.9819e-01, -3.2480e-01,  2.3820e-01, -9.9898e-02,\n",
       "        -1.0123e+00, -6.6404e-01,  1.0476e-01, -2.7864e-01, -3.1725e-01,\n",
       "        -1.9011e-01,  1.6119e-01,  3.8263e-01,  2.7540e-01, -1.0990e-01,\n",
       "        -4.9316e-01,  1.0182e-02, -1.6114e-01,  6.0154e-01,  1.4912e-01,\n",
       "        -5.0531e-02, -1.2697e-01,  8.1711e-01, -9.5922e-02,  6.6484e-02,\n",
       "         3.4067e-02, -4.3336e-01, -8.3138e-02,  9.8116e-02,  3.8540e-01,\n",
       "        -9.9480e-02,  4.5246e-01, -3.6994e-01, -1.9348e-01,  6.9904e-02,\n",
       "        -1.8711e+00,  2.8886e-01,  5.3560e-01,  2.3890e-01,  3.1066e-01,\n",
       "        -4.6002e-01, -5.9927e-01,  7.8141e-01,  1.7453e-01, -1.7875e-02,\n",
       "        -6.0018e-01, -7.5176e-02,  1.4500e-01,  1.5022e-03, -1.2264e-01,\n",
       "         7.7538e-02,  3.0473e-01, -7.4779e-01, -5.7410e-01, -5.2114e-01,\n",
       "        -3.4295e-01,  1.6800e-01, -1.8790e-01,  1.5569e-01, -1.9904e-01,\n",
       "        -4.1793e-01, -3.4466e-01,  3.8749e-01,  2.0944e-01,  6.0538e-01,\n",
       "        -1.3106e-01, -2.4440e-01, -8.0896e-01, -2.2613e-01,  8.8685e-02,\n",
       "         3.9535e-01,  1.8028e-01, -4.6390e-01,  8.8237e-01,  4.4132e-01,\n",
       "        -5.6577e-01,  7.8220e-01,  3.3000e-01, -3.4066e-01, -1.7443e-01,\n",
       "         6.7451e-01, -6.8344e-01,  5.5217e-01, -4.5311e-02, -7.6234e-02,\n",
       "        -1.6136e-01, -1.6453e-01, -5.3048e-01, -4.0583e-02,  1.9511e-01,\n",
       "         4.3400e-02,  2.4173e-01, -1.0306e-01, -1.0777e+00, -2.2965e-01,\n",
       "         7.3160e-01, -5.8911e-02, -5.7219e-01,  6.8970e-02, -3.1859e-01,\n",
       "        -6.4536e-01, -8.6671e-02, -6.8316e-01, -4.6000e-01,  2.6156e-01,\n",
       "         6.3570e-01,  1.5650e-01,  1.4526e-01,  3.7788e-01, -4.5043e-01,\n",
       "         1.0809e-01,  1.4156e-01,  3.8566e-01,  7.1781e-01, -4.5512e-01,\n",
       "         1.9513e-01, -8.7347e-02,  6.7670e-02,  6.0358e-02,  8.1024e-02,\n",
       "         4.7696e-01, -1.2784e-01, -1.6160e-01,  1.6247e-01, -2.5887e-01,\n",
       "        -7.2227e-01, -2.4809e-01,  5.8122e-01, -3.7942e-01, -4.1757e-01,\n",
       "        -3.1993e-02,  5.3554e-01, -9.7681e-02,  2.6900e-01, -4.4821e-01,\n",
       "        -2.1783e-02,  5.9598e-01,  4.4820e-01, -1.1374e-01, -3.5118e-01,\n",
       "        -7.2691e-02,  8.1351e-01, -1.8439e-01, -2.5350e-01, -4.0077e-01,\n",
       "         2.8838e-02, -1.1297e-01, -5.5234e-02, -2.4942e-01,  2.3233e-01,\n",
       "        -6.4687e-01,  4.4642e-01, -7.3514e-01,  2.2087e+00,  6.9025e-01,\n",
       "         1.0120e-01, -5.2279e-01,  2.8490e-01,  3.4539e-01, -2.5815e-01,\n",
       "         7.4893e-01, -5.5996e-01,  4.8538e-01, -6.4869e-01,  3.9909e-01,\n",
       "        -2.8353e-01,  7.0328e-02,  8.8285e-01,  3.0428e-01, -1.7665e-01,\n",
       "        -4.2424e-01, -1.0109e+00, -6.8134e-02, -4.2082e-01,  1.0883e+00,\n",
       "         1.4573e-01,  3.1880e-02,  3.1617e-01,  5.1089e-01,  5.8722e-01,\n",
       "         5.0139e-01,  5.9085e-02,  4.8362e-01,  5.4237e-02,  2.1543e-01,\n",
       "         1.0943e-01,  4.0411e-01, -6.5164e-01,  2.7918e-01, -2.2357e-01,\n",
       "        -5.6274e-01, -4.5906e-01,  4.4785e-01,  3.1902e-02, -5.8782e-01,\n",
       "         9.1455e-01,  1.4511e-02, -1.4782e-01,  6.1859e-01, -4.2230e-01,\n",
       "        -3.5443e-01,  3.8226e-01,  2.3360e-01, -2.2714e-01,  7.2468e-02,\n",
       "        -6.1859e-01,  4.8408e-01, -4.0769e-01,  1.0102e-01, -1.1646e-01,\n",
       "        -2.9411e-01, -3.4229e-01, -1.0765e-02, -3.2135e-01,  5.9163e-01,\n",
       "        -1.6426e-01, -3.7790e-01,  2.0265e-01,  1.8122e-01, -1.5733e-01,\n",
       "        -1.1750e-03,  3.9798e-01, -6.1905e-01, -1.7251e-01,  5.6295e-01,\n",
       "         3.2673e-01,  1.9004e-01,  1.5713e-01,  3.2860e-01,  4.1745e-01,\n",
       "        -1.7722e-01,  1.2134e-01, -2.1113e+00,  1.0722e-01,  5.1581e-02,\n",
       "         3.3456e-01,  2.9214e-01, -2.2137e-01,  3.3791e-01, -3.4816e-01,\n",
       "         2.3085e-01,  1.7130e-01,  5.7846e-01,  4.0418e-01,  6.0716e-01,\n",
       "         2.9476e-01,  3.6928e-01,  2.2540e-01,  5.2821e-01, -7.4782e-01,\n",
       "        -3.2916e-01, -1.3702e-01,  6.0835e-01,  2.7622e-01,  1.3495e-01,\n",
       "        -5.3020e-01, -7.1449e-01,  3.3407e-01, -2.2808e-01, -6.2682e-02,\n",
       "        -7.9492e-03,  5.2147e-01,  2.1374e-02,  4.5874e-01,  1.4530e-01,\n",
       "         7.6504e-02,  6.7170e-02, -6.8665e-01, -1.5356e-01,  2.6926e-02,\n",
       "         4.5992e-01,  4.4649e-01, -1.6443e-01,  5.7174e-01, -2.6267e-02,\n",
       "         2.2529e-01,  3.5017e-01, -4.5437e-02,  6.7547e-01, -3.2210e-01,\n",
       "         4.6844e-01, -1.5893e-01,  6.9744e-02, -3.1686e-01,  4.6035e-01,\n",
       "         2.2700e-01,  3.7422e-01, -1.3853e-01,  2.8507e-01,  4.3050e-02,\n",
       "        -8.9410e-02, -2.9812e-01, -3.5344e-02,  5.4819e-01, -4.9553e-01,\n",
       "        -2.0519e-01,  8.7650e-01, -3.2034e-01, -2.1006e-01, -3.1956e-01,\n",
       "        -5.0325e-02, -8.1380e-02, -2.9644e-01,  1.7609e-01,  8.2895e-01,\n",
       "        -4.3132e-02, -1.2418e-01, -3.9449e-01,  6.9495e-01,  3.2405e-01,\n",
       "         2.9244e-01,  5.1440e-03, -4.5847e-01,  3.6218e-01, -3.5864e-01,\n",
       "         7.9472e-02, -8.2154e-03, -6.9396e+00, -1.6671e-01, -4.6765e-02,\n",
       "        -6.5187e-01,  3.6777e-02, -9.5793e-02, -4.3165e-01, -1.1277e-01,\n",
       "         1.0579e-01, -2.0634e-01,  2.2013e-01,  1.1317e-01, -4.2127e-01,\n",
       "        -3.9138e-01,  5.4969e-01,  5.6156e-01])"
      ]
     },
     "execution_count": 105,
     "metadata": {},
     "output_type": "execute_result"
    }
   ],
   "source": [
    "embedding1[0,0]"
   ]
  },
  {
   "cell_type": "code",
   "execution_count": 10,
   "metadata": {},
   "outputs": [
    {
     "name": "stdout",
     "output_type": "stream",
     "text": [
      "Cosine similarity of '[CLS]' tokens: 0.89174694\n",
      "Cosine similarity of 'water' tokens: 0.24092221\n"
     ]
    }
   ],
   "source": [
    "cls1 = embedding1[0, 0]\n",
    "cls2 = embedding2[0, 0]\n",
    "water1 = embedding1[0, 5]\n",
    "water2 = embedding2[0, 5]\n",
    "print(\"Cosine similarity of '[CLS]' tokens:\", \n",
    "      np.dot(cls1, cls2) / (np.linalg.norm(cls1) * np.linalg.norm(cls2)))\n",
    "print(\"Cosine similarity of 'water' tokens:\", \n",
    "      np.dot(water1, water2) / (np.linalg.norm(water1) * np.linalg.norm(water2)))"
   ]
  },
  {
   "cell_type": "code",
   "execution_count": null,
   "metadata": {},
   "outputs": [],
   "source": []
  },
  {
   "cell_type": "code",
   "execution_count": 146,
   "metadata": {},
   "outputs": [
    {
     "data": {
      "text/plain": [
       "3.2450306"
      ]
     },
     "execution_count": 146,
     "metadata": {},
     "output_type": "execute_result"
    }
   ],
   "source": [
    "embedding_neg = get_embedding(\"random I hated the movie Avengers: Endgame!\")[0,0]\n",
    "embedding_pos = get_embedding(\"random I loved the movie Avengers: Endgame!\")[0,0]\n",
    "\n",
    "np.linalg.norm(embedding_neg-embedding_pos)"
   ]
  },
  {
   "cell_type": "code",
   "execution_count": 147,
   "metadata": {},
   "outputs": [
    {
     "data": {
      "text/plain": [
       "14.777702"
      ]
     },
     "execution_count": 147,
     "metadata": {},
     "output_type": "execute_result"
    }
   ],
   "source": [
    "np.linalg.norm(embedding_neg)"
   ]
  },
  {
   "cell_type": "code",
   "execution_count": 148,
   "metadata": {},
   "outputs": [
    {
     "data": {
      "text/plain": [
       "-0.011343002"
      ]
     },
     "execution_count": 148,
     "metadata": {},
     "output_type": "execute_result"
    }
   ],
   "source": [
    "np.linalg.norm(embedding_neg)-np.linalg.norm(embedding_pos)"
   ]
  },
  {
   "cell_type": "code",
   "execution_count": 149,
   "metadata": {},
   "outputs": [
    {
     "data": {
      "text/plain": [
       "2.572351"
      ]
     },
     "execution_count": 149,
     "metadata": {},
     "output_type": "execute_result"
    }
   ],
   "source": [
    "embedding_neg = get_embedding(\"random I hated the movie Avengers: Endgame!\")[0,0]\n",
    "embedding_pos = get_embedding(\"random I loved the movie Avengers: Endgame!\")[0,0]\n",
    "\n",
    "np.linalg.norm(embedding_neg-embedding_pos)"
   ]
  },
  {
   "cell_type": "code",
   "execution_count": 150,
   "metadata": {},
   "outputs": [
    {
     "data": {
      "text/plain": [
       "14.375447"
      ]
     },
     "execution_count": 150,
     "metadata": {},
     "output_type": "execute_result"
    }
   ],
   "source": [
    "np.linalg.norm(embedding_neg)"
   ]
  },
  {
   "cell_type": "code",
   "execution_count": 185,
   "metadata": {},
   "outputs": [
    {
     "name": "stdout",
     "output_type": "stream",
     "text": [
      "Cosine similarity of '[CLS]' tokens: 0.97590894\n"
     ]
    }
   ],
   "source": [
    "embedding_neg = get_embedding(\"I hated the movie Avengers: Endgame!\")\n",
    "embedding_pos = get_embedding(\"I loved the movie Avengers: Endgame!\")\n",
    "\n",
    "\n",
    "\n",
    "cls_pos = embedding_pos[0, 0]\n",
    "cls_neg = embedding_neg[0, 0]\n",
    "cls_neg2 = embedding_neg2[0, 0]\n",
    "cls_base = embedding_base[0, 0]\n",
    "\n",
    "\n",
    "print(\"Cosine similarity of '[CLS]' tokens:\", \n",
    "      np.dot(cls_pos, cls_neg) / (np.linalg.norm(cls_pos) * np.linalg.norm(cls_neg)))"
   ]
  },
  {
   "cell_type": "markdown",
   "metadata": {},
   "source": [
    "BERT is a \"context-aware\" model, so while the tokens (i.e., integer lookup codes) of words are invariant to where the words appear, their embeddings are not; the words' embeddings depend on their context, hence why we see some differences above."
   ]
  },
  {
   "cell_type": "code",
   "execution_count": 183,
   "metadata": {},
   "outputs": [
    {
     "name": "stdout",
     "output_type": "stream",
     "text": [
      "Cosine similarity of '[CLS]' tokens: 0.98431915\n"
     ]
    }
   ],
   "source": [
    "embedding_neg = get_embedding(\"random I hated the movie Avengers: Endgame!\")\n",
    "embedding_pos = get_embedding(\"random I loved the movie Avengers: Endgame!\")\n",
    "\n",
    "\n",
    "\n",
    "cls_pos = embedding_pos[0, 0]\n",
    "cls_neg = embedding_neg[0, 0]\n",
    "cls_neg2 = embedding_neg2[0, 0]\n",
    "cls_base = embedding_base[0, 0]\n",
    "\n",
    "\n",
    "print(\"Cosine similarity of '[CLS]' tokens:\", \n",
    "      np.dot(cls_pos, cls_neg) / (np.linalg.norm(cls_pos) * np.linalg.norm(cls_neg)))"
   ]
  },
  {
   "cell_type": "code",
   "execution_count": 186,
   "metadata": {},
   "outputs": [
    {
     "name": "stdout",
     "output_type": "stream",
     "text": [
      "Cosine similarity of '[CLS]' tokens: 0.9832284\n"
     ]
    }
   ],
   "source": [
    "embedding_neg = get_embedding(\"chair random I hated the movie Avengers: Endgame!\")\n",
    "embedding_pos = get_embedding(\"chair random I loved the movie Avengers: Endgame!\")\n",
    "\n",
    "\n",
    "\n",
    "cls_pos = embedding_pos[0, 0]\n",
    "cls_neg = embedding_neg[0, 0]\n",
    "cls_neg2 = embedding_neg2[0, 0]\n",
    "cls_base = embedding_base[0, 0]\n",
    "\n",
    "\n",
    "print(\"Cosine similarity of '[CLS]' tokens:\", \n",
    "      np.dot(cls_pos, cls_neg) / (np.linalg.norm(cls_pos) * np.linalg.norm(cls_neg)))"
   ]
  },
  {
   "cell_type": "code",
   "execution_count": 175,
   "metadata": {},
   "outputs": [
    {
     "name": "stdout",
     "output_type": "stream",
     "text": [
      "Cosine similarity of '[CLS]' tokens: 0.9575104\n"
     ]
    }
   ],
   "source": [
    "embedding_neg = get_embedding(\"I hate the movie Avengers: Endgame!\")\n",
    "embedding_pos = get_embedding(\"I loved the movie Avengers: Endgame!\")\n",
    "\n",
    "\n",
    "\n",
    "cls_pos = embedding_pos[0, 0]\n",
    "cls_neg = embedding_neg[0, 0]\n",
    "cls_neg2 = embedding_neg2[0, 0]\n",
    "cls_base = embedding_base[0, 0]\n",
    "\n",
    "\n",
    "print(\"Cosine similarity of '[CLS]' tokens:\", \n",
    "      np.dot(cls_pos, cls_neg) / (np.linalg.norm(cls_pos) * np.linalg.norm(cls_neg)))"
   ]
  },
  {
   "cell_type": "code",
   "execution_count": 171,
   "metadata": {},
   "outputs": [
    {
     "name": "stdout",
     "output_type": "stream",
     "text": [
      "Cosine similarity of '[CLS]' tokens: 0.37745157\n"
     ]
    }
   ],
   "source": [
    "embedding_neg = get_embedding(\"I hate the movie Avengers: Endgame!\")\n",
    "embedding_pos = get_embedding(\"\")\n",
    "\n",
    "\n",
    "\n",
    "cls_pos = embedding_pos[0, 0]\n",
    "cls_neg = embedding_neg[0, 0]\n",
    "cls_neg2 = embedding_neg2[0, 0]\n",
    "cls_base = embedding_base[0, 0]\n",
    "\n",
    "\n",
    "print(\"Cosine similarity of '[CLS]' tokens:\", \n",
    "      np.dot(cls_pos, cls_neg) / (np.linalg.norm(cls_pos) * np.linalg.norm(cls_neg)))"
   ]
  },
  {
   "cell_type": "code",
   "execution_count": 46,
   "metadata": {},
   "outputs": [
    {
     "data": {
      "text/plain": [
       "<matplotlib.axes._subplots.AxesSubplot at 0x7f12eca4dbd0>"
      ]
     },
     "execution_count": 46,
     "metadata": {},
     "output_type": "execute_result"
    },
    {
     "data": {
      "image/png": "[encoded data removed]",
      "text/plain": [
       "<Figure size 432x288 with 1 Axes>"
      ]
     },
     "metadata": {
      "needs_background": "light"
     },
     "output_type": "display_data"
    }
   ],
   "source": [
    "import seaborn as sns\n",
    "import pandas as pd\n",
    "\n",
    "\n",
    "df = pd.DataFrame([])\n",
    "df['CLS'] = cls_pos.cpu().numpy()\n",
    "df['sentence'] = 'pos'\n",
    "\n",
    "df2 = pd.DataFrame([])\n",
    "df2['CLS'] = cls_neg.cpu().numpy()\n",
    "df2['sentence'] = 'neg'\n",
    "\n",
    "df = pd.concat([df, df2])\n",
    "df = df.reset_index()\n",
    "\n",
    "sns.lineplot(data=df, x='index', y='CLS', hue='sentence')"
   ]
  },
  {
   "cell_type": "code",
   "execution_count": 72,
   "metadata": {},
   "outputs": [
    {
     "data": {
      "text/plain": [
       "<matplotlib.axes._subplots.AxesSubplot at 0x7f12c175c250>"
      ]
     },
     "execution_count": 72,
     "metadata": {},
     "output_type": "execute_result"
    },
    {
     "data": {
      "image/png": "[encoded data removed]",
      "text/plain": [
       "<Figure size 432x288 with 1 Axes>"
      ]
     },
     "metadata": {
      "needs_background": "light"
     },
     "output_type": "display_data"
    }
   ],
   "source": [
    "import seaborn as sns\n",
    "import pandas as pd\n",
    "\n",
    "\n",
    "df = pd.DataFrame([])\n",
    "neg_comm = cls_neg.cpu().numpy() * cls_neg2.cpu().numpy() / (\n",
    "            np.linalg.norm(cls_neg) * np.linalg.norm(cls_neg2))\n",
    "df['CLS'] = neg_diff\n",
    "df['CLS'] = df['CLS']*(df['CLS']<0)\n",
    "df['CLS'] /= np.linalg.norm(df['CLS'])\n",
    "neg_comm = df['CLS']\n",
    "df = df.reset_index()\n",
    "\n",
    "sns.lineplot(data=df, x='index', y='CLS', color='blue', alpha=0.7)\n",
    "\n",
    "df = pd.DataFrame([])\n",
    "neg_pos_diff = cls_neg.cpu().numpy() * cls_pos.cpu().numpy() / (\n",
    "            np.linalg.norm(cls_neg) * np.linalg.norm(cls_pos))\n",
    "df['CLS'] = neg_pos_diff\n",
    "df['CLS'] = df['CLS']*(df['CLS']<0)\n",
    "df['CLS'] /= np.linalg.norm(df['CLS'])\n",
    "neg_pos_diff = df['CLS']\n",
    "df = df.reset_index()\n",
    "\n",
    "sns.lineplot(data=df, x='index', y='CLS', color='red', alpha=0.7)"
   ]
  },
  {
   "cell_type": "code",
   "execution_count": 70,
   "metadata": {},
   "outputs": [
    {
     "data": {
      "text/plain": [
       "<matplotlib.axes._subplots.AxesSubplot at 0x7f12c18d2fd0>"
      ]
     },
     "execution_count": 70,
     "metadata": {},
     "output_type": "execute_result"
    },
    {
     "data": {
      "image/png": "[encoded data removed]",
      "text/plain": [
       "<Figure size 432x288 with 1 Axes>"
      ]
     },
     "metadata": {
      "needs_background": "light"
     },
     "output_type": "display_data"
    }
   ],
   "source": []
  },
  {
   "cell_type": "markdown",
   "metadata": {},
   "source": [
    "Interesting that the [CLS] tokens are so similar here, even though the sentiments are polar opposite."
   ]
  },
  {
   "cell_type": "markdown",
   "metadata": {},
   "source": [
    "### CLS Comparisons\n",
    "\n",
    "Let's see the cosine similarity of the [CLS] token embeddings for several different sentences."
   ]
  },
  {
   "cell_type": "code",
   "execution_count": 10,
   "metadata": {},
   "outputs": [],
   "source": [
    "def cls_cosine_similarity(sentence1, sentence2):\n",
    "    embedding1, embedding2 = get_embedding(sentence1), get_embedding(sentence2)\n",
    "    cls1, cls2 = embedding1[0, 0], embedding2[0, 0]\n",
    "    return np.dot(cls1, cls2) / (np.linalg.norm(cls1) * np.linalg.norm(cls2))"
   ]
  },
  {
   "cell_type": "markdown",
   "metadata": {},
   "source": [
    "#### Not all that related to ratings"
   ]
  },
  {
   "cell_type": "code",
   "execution_count": 11,
   "metadata": {},
   "outputs": [
    {
     "name": "stdout",
     "output_type": "stream",
     "text": [
      "0.9466761\n",
      "0.9253024\n",
      "0.93394387\n",
      "0.9430013\n",
      "0.9658548\n"
     ]
    }
   ],
   "source": [
    "# Made up, both express emotions but opposite ones. Note the variance based on punctuation alone:\n",
    "print(cls_cosine_similarity(\"I'm sad.\", \"I'm glad.\"))\n",
    "print(cls_cosine_similarity(\"I'm sad.\", \"I'm glad\"))\n",
    "print(cls_cosine_similarity(\"I'm sad\", \"I'm glad.\"))\n",
    "print(cls_cosine_similarity(\"I'm sad\", \"I'm glad\"))\n",
    "print(cls_cosine_similarity(\"I'm sad!\", \"I'm glad!\"))"
   ]
  },
  {
   "cell_type": "code",
   "execution_count": 12,
   "metadata": {},
   "outputs": [
    {
     "name": "stdout",
     "output_type": "stream",
     "text": [
      "0.826888\n",
      "0.826888\n"
     ]
    }
   ],
   "source": [
    "# Made up, and meant to be orthogonal\n",
    "print(cls_cosine_similarity(\"Unlimited power!\", \"The pencils are on aisle three.\"))\n",
    "\n",
    "# Sanity check that case doesn't matter, since we're using bert base uncased\n",
    "print(cls_cosine_similarity(\"UNLIMITED power!\", \"The pencils are on aisle three.\"))"
   ]
  },
  {
   "cell_type": "code",
   "execution_count": 13,
   "metadata": {},
   "outputs": [
    {
     "data": {
      "text/plain": [
       "0.808972"
      ]
     },
     "execution_count": 13,
     "metadata": {},
     "output_type": "execute_result"
    }
   ],
   "source": [
    "# Opening sentences of the Gettysburg Address and US Declaration of Independence, respectively\n",
    "cls_cosine_similarity(\"Four score and seven years ago our fathers brought forth upon this continent, \\\n",
    "                      a new nation, conceived in Liberty, and dedicated to the proposition that all \\\n",
    "                      men are created equal.\", \n",
    "                      \"When in the Course of human events, it becomes necessary for one people to \\\n",
    "                      dissolve the political bands which have connected them with another, and to \\\n",
    "                      assume among the powers of the earth, the separate and equal station to which \\\n",
    "                      the Laws of Nature and of Nature's God entitle them, a decent respect to the \\\n",
    "                      opinions of mankind requires that they should declare the causes which impel \\\n",
    "                      them to the separation.\")"
   ]
  },
  {
   "cell_type": "code",
   "execution_count": 14,
   "metadata": {},
   "outputs": [
    {
     "data": {
      "text/plain": [
       "0.84314543"
      ]
     },
     "execution_count": 14,
     "metadata": {},
     "output_type": "execute_result"
    }
   ],
   "source": [
    "# Adjacent lyrics from \"Dancing Queen\" by ABBA\n",
    "cls_cosine_similarity(\"You are the dancing queen\", \"Young and sweet, only seventeen\")"
   ]
  },
  {
   "cell_type": "code",
   "execution_count": 15,
   "metadata": {},
   "outputs": [
    {
     "data": {
      "text/plain": [
       "0.8270535"
      ]
     },
     "execution_count": 15,
     "metadata": {},
     "output_type": "execute_result"
    }
   ],
   "source": [
    "# Adjacent lyrics from \"Smells Like Teen Spirit\" by Nirvana\n",
    "cls_cosine_similarity(\"With the lights out, it's less dangerous\",\n",
    "                     \"Here we are now, entertain us\")"
   ]
  },
  {
   "cell_type": "markdown",
   "metadata": {},
   "source": [
    "#### Ratings"
   ]
  },
  {
   "cell_type": "code",
   "execution_count": 16,
   "metadata": {},
   "outputs": [
    {
     "data": {
      "text/plain": [
       "0.9787343"
      ]
     },
     "execution_count": 16,
     "metadata": {},
     "output_type": "execute_result"
    }
   ],
   "source": [
    "# From the paper that introduced the Stanford SST dataset\n",
    "cls_cosine_similarity(\"I liked every single minute of this film\",\n",
    "                      \"I didn't like a single minute of this film\")"
   ]
  },
  {
   "cell_type": "code",
   "execution_count": 17,
   "metadata": {},
   "outputs": [
    {
     "name": "stdout",
     "output_type": "stream",
     "text": [
      "0.7850991\n",
      "0.79266214\n",
      "0.82031244\n",
      "0.80661196\n",
      "0.74364334\n",
      "0.9023664\n"
     ]
    }
   ],
   "source": [
    "### Actual rotten tomatoes reviews for X-Men: First Class\n",
    "pos1 = \"For reasons arising from the way the X-Men film franchise has developed, this is the first Marvel movie set in the period when the characters were created, and thus able to embrace the Rat Pack cool that was part of their original charm.\"\n",
    "pos2 = \"A smarter and more stylish superhero movie.\"\n",
    "neg1 = \"In truth, the film is a very conventional summer potboiler repackaged in reasonably pretty, moderately crisp wrapping paper. In short, not quite groovy enough.\"\n",
    "neg2 = \"Worst of all, the movie doesn't even look that great for all the money that went into it.\"\n",
    "\n",
    "# 1 pos, 1 neg\n",
    "print(cls_cosine_similarity(pos1, neg1))\n",
    "print(cls_cosine_similarity(pos1, neg2))\n",
    "print(cls_cosine_similarity(pos2, neg1))\n",
    "print(cls_cosine_similarity(pos2, neg2))\n",
    "\n",
    "# Both pos\n",
    "print(cls_cosine_similarity(pos1, pos2))\n",
    "\n",
    "# Both neg\n",
    "print(cls_cosine_similarity(neg1, neg2))"
   ]
  },
  {
   "cell_type": "markdown",
   "metadata": {},
   "source": [
    "Interesting that the two positive reviews have the lowest cosine similarity."
   ]
  },
  {
   "cell_type": "code",
   "execution_count": 26,
   "metadata": {},
   "outputs": [
    {
     "data": {
      "text/plain": [
       "0.9183383"
      ]
     },
     "execution_count": 26,
     "metadata": {},
     "output_type": "execute_result"
    }
   ],
   "source": [
    "cls_cosine_similarity(\"I walk dogs\", \"I love dogs\")"
   ]
  },
  {
   "cell_type": "code",
   "execution_count": 139,
   "metadata": {},
   "outputs": [
    {
     "ename": "NameError",
     "evalue": "name 'metadata' is not defined",
     "output_type": "error",
     "traceback": [
      "\u001b[0;31m---------------------------------------------------------------------------\u001b[0m",
      "\u001b[0;31mNameError\u001b[0m                                 Traceback (most recent call last)",
      "\u001b[0;32m<ipython-input-139-4da626c2cc01>\u001b[0m in \u001b[0;36m<module>\u001b[0;34m\u001b[0m\n\u001b[0;32m----> 1\u001b[0;31m \u001b[0mmetadata\u001b[0m\u001b[0;34m.\u001b[0m\u001b[0mhead\u001b[0m\u001b[0;34m(\u001b[0m\u001b[0;34m)\u001b[0m\u001b[0;34m\u001b[0m\u001b[0;34m\u001b[0m\u001b[0m\n\u001b[0m",
      "\u001b[0;31mNameError\u001b[0m: name 'metadata' is not defined"
     ]
    }
   ],
   "source": [
    "metadata.head()"
   ]
  },
  {
   "cell_type": "code",
   "execution_count": null,
   "metadata": {},
   "outputs": [],
   "source": []
  }
 ],
 "metadata": {
  "kernelspec": {
   "display_name": "Python 3",
   "language": "python",
   "name": "python3"
  },
  "language_info": {
   "codemirror_mode": {
    "name": "ipython",
    "version": 3
   },
   "file_extension": ".py",
   "mimetype": "text/x-python",
   "name": "python",
   "nbconvert_exporter": "python",
   "pygments_lexer": "ipython3",
   "version": "3.7.6"
  }
 },
 "nbformat": 4,
 "nbformat_minor": 4
}
